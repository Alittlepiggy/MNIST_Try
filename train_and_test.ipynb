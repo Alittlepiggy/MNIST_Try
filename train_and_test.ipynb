{
 "cells": [
  {
   "cell_type": "code",
   "execution_count": 13,
   "metadata": {},
   "outputs": [],
   "source": [
    "import torch\n",
    "import torch.nn as nn\n",
    "import torch.optim as optim\n",
    "from torch.utils.data import DataLoader\n",
    "from torchvision import datasets, transforms\n",
    "import numpy as np\n",
    "import os"
   ]
  },
  {
   "cell_type": "code",
   "execution_count": 24,
   "metadata": {},
   "outputs": [],
   "source": [
    "class SimpleCNN(nn.Module):\n",
    "    def __init__(self):\n",
    "        super(SimpleCNN, self).__init__()\n",
    "        # self.conv1 = nn.Conv2d(1, 1, kernel_size=5)\n",
    "        self.conv2 = nn.Conv2d(1, 16, kernel_size=5)\n",
    "        self.conv3 = nn.Conv2d(16, 32, kernel_size=5)\n",
    "        # self.fc1 = nn.Linear(1024, 128, bias=True)\n",
    "        # self.fc2 = nn.Linear(128, 10, bias=True)\n",
    "        self.fc1 = nn.Linear(512, 10, bias=True)\n",
    "\n",
    "    def forward(self, x):\n",
    "        # x = self.conv1(x)\n",
    "        x = torch.relu(nn.MaxPool2d(2)(self.conv2(x)))\n",
    "        x = torch.relu(nn.MaxPool2d(2)(self.conv3(x)))\n",
    "        x = x.view(-1, 512)\n",
    "        # x = torch.relu(self.fc1(x))\n",
    "        # x = self.fc2(x)\n",
    "        x = self.fc1(x)\n",
    "        return x"
   ]
  },
  {
   "cell_type": "code",
   "execution_count": 3,
   "metadata": {},
   "outputs": [],
   "source": [
    "transform = transforms.Compose([transforms.ToTensor(), transforms.Normalize((0.5,), (0.5,))])\n",
    "\n",
    "train_dataset = datasets.MNIST(root='./data', train=True, download=False, transform=transform)\n",
    "test_dataset = datasets.MNIST(root='./data', train=False, download=False, transform=transform)\n",
    "\n",
    "train_loader = DataLoader(train_dataset, batch_size=64, shuffle=True)\n",
    "test_loader = DataLoader(test_dataset, batch_size=64, shuffle=False)"
   ]
  },
  {
   "cell_type": "code",
   "execution_count": 9,
   "metadata": {},
   "outputs": [],
   "source": [
    "def test(model, test_loader):\n",
    "    model.eval()\n",
    "    correct = 0\n",
    "    total = 0\n",
    "    with torch.no_grad():\n",
    "        for images, labels in test_loader:\n",
    "            outputs = model(images)\n",
    "            _, predicted = torch.max(outputs, 1)\n",
    "            total += labels.size(0)\n",
    "            correct += (predicted == labels).sum().item()\n",
    "\n",
    "    accuracy = 100 * correct / total\n",
    "    print(f'Test Accuracy: {accuracy:.2f}%')"
   ]
  },
  {
   "cell_type": "code",
   "execution_count": 16,
   "metadata": {},
   "outputs": [],
   "source": [
    "def train(model, train_loader, criterion, optimizer, num_epochs=10, weights_dir='./weights'):\n",
    "    # 遍历每个epoch\n",
    "    for epoch in range(num_epochs):\n",
    "        # 将模型设置为训练模式\n",
    "        model.train()\n",
    "        # 初始化每个epoch的损失和正确预测数量\n",
    "        running_loss = 0.0\n",
    "        correct = 0\n",
    "        total = 0\n",
    "        # 遍历每个batch\n",
    "            # 将梯度置零\n",
    "        for images, labels in train_loader:\n",
    "            optimizer.zero_grad()\n",
    "            # 前向传播\n",
    "            outputs = model(images)\n",
    "            # 计算损失\n",
    "            loss = criterion(outputs, labels)\n",
    "            loss.backward()\n",
    "            optimizer.step()\n",
    "\n",
    "            running_loss += loss.item()\n",
    "            _, predicted = torch.max(outputs, 1)\n",
    "            total += labels.size(0)\n",
    "            correct += (predicted == labels).sum().item()\n",
    "\n",
    "        avg_loss = running_loss / len(train_loader)\n",
    "        accuracy = 100 * correct / total\n",
    "        print(f'Epoch [{epoch+1}/{num_epochs}], Loss: {avg_loss:.4f}, Accuracy: {accuracy:.2f}%')\n",
    "        test(model, test_loader)#验证集输出\n",
    "        # 在每个epoch结束后保存模型参数\n",
    "        model_path = os.path.join(weights_dir, f'model_epoch_{epoch + 1}.pth')\n",
    "        torch.save(model.state_dict(), model_path)\n",
    "        print(f\"Model's state_dict saved to {model_path}\")"
   ]
  },
  {
   "cell_type": "code",
   "execution_count": 25,
   "metadata": {},
   "outputs": [
    {
     "name": "stdout",
     "output_type": "stream",
     "text": [
      "Epoch [1/10], Loss: 0.1996, Accuracy: 94.04%\n",
      "Test Accuracy: 97.58%\n",
      "Model's state_dict saved to ./weights\\model_epoch_1.pth\n",
      "Epoch [2/10], Loss: 0.0585, Accuracy: 98.20%\n",
      "Test Accuracy: 98.54%\n",
      "Model's state_dict saved to ./weights\\model_epoch_2.pth\n",
      "Epoch [3/10], Loss: 0.0414, Accuracy: 98.71%\n",
      "Test Accuracy: 98.99%\n",
      "Model's state_dict saved to ./weights\\model_epoch_3.pth\n",
      "Epoch [4/10], Loss: 0.0338, Accuracy: 98.96%\n",
      "Test Accuracy: 99.00%\n",
      "Model's state_dict saved to ./weights\\model_epoch_4.pth\n",
      "Epoch [5/10], Loss: 0.0277, Accuracy: 99.12%\n",
      "Test Accuracy: 98.96%\n",
      "Model's state_dict saved to ./weights\\model_epoch_5.pth\n",
      "Epoch [6/10], Loss: 0.0233, Accuracy: 99.28%\n",
      "Test Accuracy: 98.92%\n",
      "Model's state_dict saved to ./weights\\model_epoch_6.pth\n",
      "Epoch [7/10], Loss: 0.0194, Accuracy: 99.38%\n",
      "Test Accuracy: 99.01%\n",
      "Model's state_dict saved to ./weights\\model_epoch_7.pth\n",
      "Epoch [8/10], Loss: 0.0168, Accuracy: 99.46%\n",
      "Test Accuracy: 99.18%\n",
      "Model's state_dict saved to ./weights\\model_epoch_8.pth\n",
      "Epoch [9/10], Loss: 0.0152, Accuracy: 99.49%\n",
      "Test Accuracy: 99.14%\n",
      "Model's state_dict saved to ./weights\\model_epoch_9.pth\n",
      "Epoch [10/10], Loss: 0.0132, Accuracy: 99.56%\n",
      "Test Accuracy: 99.05%\n",
      "Model's state_dict saved to ./weights\\model_epoch_10.pth\n"
     ]
    }
   ],
   "source": [
    "# 检查是否存在权重保存路径，如果不存在则创建\n",
    "weights_dir = './weights'\n",
    "if not os.path.exists(weights_dir):\n",
    "    os.makedirs(weights_dir)\n",
    "# 初始化模型、损失函数和优化器\n",
    "model = SimpleCNN()\n",
    "criterion = nn.CrossEntropyLoss()\n",
    "optimizer = optim.Adam(model.parameters(), lr=0.001)\n",
    "\n",
    "# 训练模型\n",
    "train(model, train_loader, criterion, optimizer, num_epochs=10, weights_dir=weights_dir)\n",
    "\n",
    "# 测试模型\n",
    "# test(model, test_loader)"
   ]
  },
  {
   "cell_type": "markdown",
   "metadata": {},
   "source": [
    "测试一下"
   ]
  }
 ],
 "metadata": {
  "kernelspec": {
   "display_name": "aicourse",
   "language": "python",
   "name": "python3"
  },
  "language_info": {
   "codemirror_mode": {
    "name": "ipython",
    "version": 3
   },
   "file_extension": ".py",
   "mimetype": "text/x-python",
   "name": "python",
   "nbconvert_exporter": "python",
   "pygments_lexer": "ipython3",
   "version": "3.12.5"
  }
 },
 "nbformat": 4,
 "nbformat_minor": 2
}
